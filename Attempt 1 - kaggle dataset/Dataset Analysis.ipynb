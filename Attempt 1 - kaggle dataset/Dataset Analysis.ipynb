{
 "cells": [
  {
   "cell_type": "code",
   "execution_count": 1,
   "id": "c12a4414",
   "metadata": {},
   "outputs": [],
   "source": [
    "# Imports.\n",
    "from sklearn.neural_network import MLPClassifier\n",
    "from sklearn.model_selection import train_test_split\n",
    "from sklearn.metrics import classification_report, confusion_matrix\n",
    "\n",
    "from sklearn.metrics import accuracy_score\n",
    "from sklearn.metrics import log_loss\n",
    "from sklearn.metrics import recall_score\n",
    "from sklearn.metrics import precision_score\n",
    "from sklearn.metrics import f1_score\n",
    "from math import ceil \n",
    "\n",
    "\n",
    "import numpy as np\n",
    "import pandas as pd\n",
    "import matplotlib.pyplot as plt\n",
    "import seaborn as sns\n",
    "\n",
    "%matplotlib inline"
   ]
  },
  {
   "cell_type": "code",
   "execution_count": 2,
   "id": "b6bbad55",
   "metadata": {},
   "outputs": [],
   "source": [
    "# loading the datasets\n",
    "malware_train = pd.read_csv('kaggle_dataset_malware.csv')\n",
    "malware_val = pd.read_csv('kaggle_dataset_test.csv')"
   ]
  },
  {
   "cell_type": "code",
   "execution_count": 3,
   "id": "e3ac29af",
   "metadata": {},
   "outputs": [
    {
     "data": {
      "text/html": [
       "<div>\n",
       "<style scoped>\n",
       "    .dataframe tbody tr th:only-of-type {\n",
       "        vertical-align: middle;\n",
       "    }\n",
       "\n",
       "    .dataframe tbody tr th {\n",
       "        vertical-align: top;\n",
       "    }\n",
       "\n",
       "    .dataframe thead th {\n",
       "        text-align: right;\n",
       "    }\n",
       "</style>\n",
       "<table border=\"1\" class=\"dataframe\">\n",
       "  <thead>\n",
       "    <tr style=\"text-align: right;\">\n",
       "      <th></th>\n",
       "      <th>Name</th>\n",
       "      <th>e_magic</th>\n",
       "      <th>e_cblp</th>\n",
       "      <th>e_cp</th>\n",
       "      <th>e_crlc</th>\n",
       "      <th>e_cparhdr</th>\n",
       "      <th>e_minalloc</th>\n",
       "      <th>e_maxalloc</th>\n",
       "      <th>e_ss</th>\n",
       "      <th>e_sp</th>\n",
       "      <th>...</th>\n",
       "      <th>SectionMaxChar</th>\n",
       "      <th>SectionMainChar</th>\n",
       "      <th>DirectoryEntryImport</th>\n",
       "      <th>DirectoryEntryImportSize</th>\n",
       "      <th>DirectoryEntryExport</th>\n",
       "      <th>ImageDirectoryEntryExport</th>\n",
       "      <th>ImageDirectoryEntryImport</th>\n",
       "      <th>ImageDirectoryEntryResource</th>\n",
       "      <th>ImageDirectoryEntryException</th>\n",
       "      <th>ImageDirectoryEntrySecurity</th>\n",
       "    </tr>\n",
       "  </thead>\n",
       "  <tbody>\n",
       "    <tr>\n",
       "      <th>0</th>\n",
       "      <td>VirusShare_a878ba26000edaac5c98eff4432723b3</td>\n",
       "      <td>23117</td>\n",
       "      <td>144</td>\n",
       "      <td>3</td>\n",
       "      <td>0</td>\n",
       "      <td>4</td>\n",
       "      <td>0</td>\n",
       "      <td>65535</td>\n",
       "      <td>0</td>\n",
       "      <td>184</td>\n",
       "      <td>...</td>\n",
       "      <td>3758096608</td>\n",
       "      <td>0</td>\n",
       "      <td>7</td>\n",
       "      <td>152</td>\n",
       "      <td>0</td>\n",
       "      <td>0</td>\n",
       "      <td>54440</td>\n",
       "      <td>77824</td>\n",
       "      <td>73728</td>\n",
       "      <td>0</td>\n",
       "    </tr>\n",
       "    <tr>\n",
       "      <th>1</th>\n",
       "      <td>VirusShare_ef9130570fddc174b312b2047f5f4cf0</td>\n",
       "      <td>23117</td>\n",
       "      <td>144</td>\n",
       "      <td>3</td>\n",
       "      <td>0</td>\n",
       "      <td>4</td>\n",
       "      <td>0</td>\n",
       "      <td>65535</td>\n",
       "      <td>0</td>\n",
       "      <td>184</td>\n",
       "      <td>...</td>\n",
       "      <td>3791650880</td>\n",
       "      <td>0</td>\n",
       "      <td>16</td>\n",
       "      <td>311</td>\n",
       "      <td>0</td>\n",
       "      <td>0</td>\n",
       "      <td>262276</td>\n",
       "      <td>294912</td>\n",
       "      <td>0</td>\n",
       "      <td>346112</td>\n",
       "    </tr>\n",
       "    <tr>\n",
       "      <th>2</th>\n",
       "      <td>VirusShare_ef84cdeba22be72a69b198213dada81a</td>\n",
       "      <td>23117</td>\n",
       "      <td>144</td>\n",
       "      <td>3</td>\n",
       "      <td>0</td>\n",
       "      <td>4</td>\n",
       "      <td>0</td>\n",
       "      <td>65535</td>\n",
       "      <td>0</td>\n",
       "      <td>184</td>\n",
       "      <td>...</td>\n",
       "      <td>3221225536</td>\n",
       "      <td>0</td>\n",
       "      <td>6</td>\n",
       "      <td>176</td>\n",
       "      <td>0</td>\n",
       "      <td>0</td>\n",
       "      <td>36864</td>\n",
       "      <td>40960</td>\n",
       "      <td>0</td>\n",
       "      <td>0</td>\n",
       "    </tr>\n",
       "    <tr>\n",
       "      <th>3</th>\n",
       "      <td>VirusShare_6bf3608e60ebc16cbcff6ed5467d469e</td>\n",
       "      <td>23117</td>\n",
       "      <td>144</td>\n",
       "      <td>3</td>\n",
       "      <td>0</td>\n",
       "      <td>4</td>\n",
       "      <td>0</td>\n",
       "      <td>65535</td>\n",
       "      <td>0</td>\n",
       "      <td>184</td>\n",
       "      <td>...</td>\n",
       "      <td>3224371328</td>\n",
       "      <td>0</td>\n",
       "      <td>8</td>\n",
       "      <td>155</td>\n",
       "      <td>0</td>\n",
       "      <td>0</td>\n",
       "      <td>356352</td>\n",
       "      <td>1003520</td>\n",
       "      <td>0</td>\n",
       "      <td>14109472</td>\n",
       "    </tr>\n",
       "    <tr>\n",
       "      <th>4</th>\n",
       "      <td>VirusShare_2cc94d952b2efb13c7d6bbe0dd59d3fb</td>\n",
       "      <td>23117</td>\n",
       "      <td>144</td>\n",
       "      <td>3</td>\n",
       "      <td>0</td>\n",
       "      <td>4</td>\n",
       "      <td>0</td>\n",
       "      <td>65535</td>\n",
       "      <td>0</td>\n",
       "      <td>184</td>\n",
       "      <td>...</td>\n",
       "      <td>3227516992</td>\n",
       "      <td>0</td>\n",
       "      <td>2</td>\n",
       "      <td>43</td>\n",
       "      <td>0</td>\n",
       "      <td>0</td>\n",
       "      <td>61440</td>\n",
       "      <td>73728</td>\n",
       "      <td>0</td>\n",
       "      <td>90624</td>\n",
       "    </tr>\n",
       "  </tbody>\n",
       "</table>\n",
       "<p>5 rows × 79 columns</p>\n",
       "</div>"
      ],
      "text/plain": [
       "                                          Name  e_magic  e_cblp  e_cp  e_crlc  \\\n",
       "0  VirusShare_a878ba26000edaac5c98eff4432723b3    23117     144     3       0   \n",
       "1  VirusShare_ef9130570fddc174b312b2047f5f4cf0    23117     144     3       0   \n",
       "2  VirusShare_ef84cdeba22be72a69b198213dada81a    23117     144     3       0   \n",
       "3  VirusShare_6bf3608e60ebc16cbcff6ed5467d469e    23117     144     3       0   \n",
       "4  VirusShare_2cc94d952b2efb13c7d6bbe0dd59d3fb    23117     144     3       0   \n",
       "\n",
       "   e_cparhdr  e_minalloc  e_maxalloc  e_ss  e_sp  ...  SectionMaxChar  \\\n",
       "0          4           0       65535     0   184  ...      3758096608   \n",
       "1          4           0       65535     0   184  ...      3791650880   \n",
       "2          4           0       65535     0   184  ...      3221225536   \n",
       "3          4           0       65535     0   184  ...      3224371328   \n",
       "4          4           0       65535     0   184  ...      3227516992   \n",
       "\n",
       "   SectionMainChar  DirectoryEntryImport  DirectoryEntryImportSize  \\\n",
       "0                0                     7                       152   \n",
       "1                0                    16                       311   \n",
       "2                0                     6                       176   \n",
       "3                0                     8                       155   \n",
       "4                0                     2                        43   \n",
       "\n",
       "   DirectoryEntryExport  ImageDirectoryEntryExport  ImageDirectoryEntryImport  \\\n",
       "0                     0                          0                      54440   \n",
       "1                     0                          0                     262276   \n",
       "2                     0                          0                      36864   \n",
       "3                     0                          0                     356352   \n",
       "4                     0                          0                      61440   \n",
       "\n",
       "   ImageDirectoryEntryResource  ImageDirectoryEntryException  \\\n",
       "0                        77824                         73728   \n",
       "1                       294912                             0   \n",
       "2                        40960                             0   \n",
       "3                      1003520                             0   \n",
       "4                        73728                             0   \n",
       "\n",
       "   ImageDirectoryEntrySecurity  \n",
       "0                            0  \n",
       "1                       346112  \n",
       "2                            0  \n",
       "3                     14109472  \n",
       "4                        90624  \n",
       "\n",
       "[5 rows x 79 columns]"
      ]
     },
     "execution_count": 3,
     "metadata": {},
     "output_type": "execute_result"
    }
   ],
   "source": [
    "malware_train.head()"
   ]
  },
  {
   "cell_type": "code",
   "execution_count": 4,
   "id": "4d1c6201",
   "metadata": {},
   "outputs": [
    {
     "data": {
      "text/plain": [
       "False"
      ]
     },
     "execution_count": 4,
     "metadata": {},
     "output_type": "execute_result"
    }
   ],
   "source": [
    "pd.isnull(malware_train).values.any()"
   ]
  },
  {
   "cell_type": "code",
   "execution_count": 5,
   "id": "53326366",
   "metadata": {},
   "outputs": [
    {
     "data": {
      "text/plain": [
       "False"
      ]
     },
     "execution_count": 5,
     "metadata": {},
     "output_type": "execute_result"
    }
   ],
   "source": [
    "pd.isnull(malware_val).values.any()"
   ]
  },
  {
   "cell_type": "code",
   "execution_count": 6,
   "id": "5d4f7536",
   "metadata": {},
   "outputs": [
    {
     "name": "stdout",
     "output_type": "stream",
     "text": [
      "<class 'pandas.core.frame.DataFrame'>\n",
      "RangeIndex: 17 entries, 0 to 16\n",
      "Data columns (total 78 columns):\n",
      " #   Column                        Non-Null Count  Dtype  \n",
      "---  ------                        --------------  -----  \n",
      " 0   Name                          17 non-null     object \n",
      " 1   e_magic                       17 non-null     int64  \n",
      " 2   e_cblp                        17 non-null     int64  \n",
      " 3   e_cp                          17 non-null     int64  \n",
      " 4   e_crlc                        17 non-null     int64  \n",
      " 5   e_cparhdr                     17 non-null     int64  \n",
      " 6   e_minalloc                    17 non-null     int64  \n",
      " 7   e_maxalloc                    17 non-null     int64  \n",
      " 8   e_ss                          17 non-null     int64  \n",
      " 9   e_sp                          17 non-null     int64  \n",
      " 10  e_csum                        17 non-null     int64  \n",
      " 11  e_ip                          17 non-null     int64  \n",
      " 12  e_cs                          17 non-null     int64  \n",
      " 13  e_lfarlc                      17 non-null     int64  \n",
      " 14  e_ovno                        17 non-null     int64  \n",
      " 15  e_oemid                       17 non-null     int64  \n",
      " 16  e_oeminfo                     17 non-null     int64  \n",
      " 17  e_lfanew                      17 non-null     int64  \n",
      " 18  Machine                       17 non-null     int64  \n",
      " 19  NumberOfSections              17 non-null     int64  \n",
      " 20  TimeDateStamp                 17 non-null     int64  \n",
      " 21  PointerToSymbolTable          17 non-null     int64  \n",
      " 22  NumberOfSymbols               17 non-null     int64  \n",
      " 23  SizeOfOptionalHeader          17 non-null     int64  \n",
      " 24  Characteristics               17 non-null     int64  \n",
      " 25  Magic                         17 non-null     int64  \n",
      " 26  MajorLinkerVersion            17 non-null     int64  \n",
      " 27  MinorLinkerVersion            17 non-null     int64  \n",
      " 28  SizeOfCode                    17 non-null     int64  \n",
      " 29  SizeOfInitializedData         17 non-null     int64  \n",
      " 30  SizeOfUninitializedData       17 non-null     int64  \n",
      " 31  AddressOfEntryPoint           17 non-null     int64  \n",
      " 32  BaseOfCode                    17 non-null     int64  \n",
      " 33  ImageBase                     17 non-null     int64  \n",
      " 34  SectionAlignment              17 non-null     int64  \n",
      " 35  FileAlignment                 17 non-null     int64  \n",
      " 36  MajorOperatingSystemVersion   17 non-null     int64  \n",
      " 37  MinorOperatingSystemVersion   17 non-null     int64  \n",
      " 38  MajorImageVersion             17 non-null     int64  \n",
      " 39  MinorImageVersion             17 non-null     int64  \n",
      " 40  MajorSubsystemVersion         17 non-null     int64  \n",
      " 41  MinorSubsystemVersion         17 non-null     int64  \n",
      " 42  SizeOfHeaders                 17 non-null     int64  \n",
      " 43  CheckSum                      17 non-null     int64  \n",
      " 44  SizeOfImage                   17 non-null     int64  \n",
      " 45  Subsystem                     17 non-null     int64  \n",
      " 46  DllCharacteristics            17 non-null     int64  \n",
      " 47  SizeOfStackReserve            17 non-null     int64  \n",
      " 48  SizeOfStackCommit             17 non-null     int64  \n",
      " 49  SizeOfHeapReserve             17 non-null     int64  \n",
      " 50  SizeOfHeapCommit              17 non-null     int64  \n",
      " 51  LoaderFlags                   17 non-null     int64  \n",
      " 52  NumberOfRvaAndSizes           17 non-null     int64  \n",
      " 53  SuspiciousImportFunctions     17 non-null     int64  \n",
      " 54  SuspiciousNameSection         17 non-null     int64  \n",
      " 55  SectionsLength                17 non-null     int64  \n",
      " 56  SectionMinEntropy             17 non-null     float64\n",
      " 57  SectionMaxEntropy             17 non-null     int64  \n",
      " 58  SectionMinRawsize             17 non-null     int64  \n",
      " 59  SectionMaxRawsize             17 non-null     int64  \n",
      " 60  SectionMinVirtualsize         17 non-null     int64  \n",
      " 61  SectionMaxVirtualsize         17 non-null     int64  \n",
      " 62  SectionMaxPhysical            17 non-null     int64  \n",
      " 63  SectionMinPhysical            17 non-null     int64  \n",
      " 64  SectionMaxVirtual             17 non-null     int64  \n",
      " 65  SectionMinVirtual             17 non-null     int64  \n",
      " 66  SectionMaxPointerData         17 non-null     int64  \n",
      " 67  SectionMinPointerData         17 non-null     int64  \n",
      " 68  SectionMaxChar                17 non-null     int64  \n",
      " 69  SectionMainChar               17 non-null     int64  \n",
      " 70  DirectoryEntryImport          17 non-null     int64  \n",
      " 71  DirectoryEntryImportSize      17 non-null     int64  \n",
      " 72  DirectoryEntryExport          17 non-null     int64  \n",
      " 73  ImageDirectoryEntryExport     17 non-null     int64  \n",
      " 74  ImageDirectoryEntryImport     17 non-null     int64  \n",
      " 75  ImageDirectoryEntryResource   17 non-null     int64  \n",
      " 76  ImageDirectoryEntryException  17 non-null     int64  \n",
      " 77  ImageDirectoryEntrySecurity   17 non-null     int64  \n",
      "dtypes: float64(1), int64(76), object(1)\n",
      "memory usage: 10.5+ KB\n"
     ]
    }
   ],
   "source": [
    "malware_val.info()"
   ]
  },
  {
   "cell_type": "code",
   "execution_count": 7,
   "id": "11adfba8",
   "metadata": {},
   "outputs": [
    {
     "data": {
      "text/plain": [
       "['Malware']"
      ]
     },
     "execution_count": 7,
     "metadata": {},
     "output_type": "execute_result"
    }
   ],
   "source": [
    "[col for col in malware_train.columns if col not in malware_val.columns]"
   ]
  },
  {
   "cell_type": "code",
   "execution_count": 8,
   "id": "2637b241",
   "metadata": {},
   "outputs": [
    {
     "data": {
      "text/plain": [
       "1    14599\n",
       "0     5012\n",
       "Name: Malware, dtype: int64"
      ]
     },
     "execution_count": 8,
     "metadata": {},
     "output_type": "execute_result"
    }
   ],
   "source": [
    "# Target, 0 - benign, 1 - malicious\n",
    "y = malware_train.Malware\n",
    "y.value_counts()"
   ]
  },
  {
   "cell_type": "code",
   "execution_count": 9,
   "id": "137b058a",
   "metadata": {
    "scrolled": true
   },
   "outputs": [],
   "source": [
    "# # Drop columns with the one one value, name and target\n",
    "X =  malware_train.drop([\"Name\", \"Malware\"], axis=1)\n",
    "X_val = malware_val.drop([\"Name\"], axis=1)"
   ]
  },
  {
   "cell_type": "code",
   "execution_count": 10,
   "id": "164313b1",
   "metadata": {},
   "outputs": [],
   "source": [
    "X_train, X_test, y_train, y_test = train_test_split(X, y, test_size=0.2, random_state=42)"
   ]
  },
  {
   "cell_type": "code",
   "execution_count": 11,
   "id": "4ace63ce",
   "metadata": {},
   "outputs": [
    {
     "data": {
      "text/plain": [
       "GridSearchCV(cv=5, estimator=MLPClassifier(), n_jobs=-1,\n",
       "             param_grid={'activation': ['tanh', 'relu'],\n",
       "                         'alpha': [0.0001, 0.05],\n",
       "                         'hidden_layer_sizes': [(10, 30, 10), (20,)],\n",
       "                         'learning_rate': ['constant', 'adaptive'],\n",
       "                         'solver': ['sgd', 'adam']})"
      ]
     },
     "execution_count": 11,
     "metadata": {},
     "output_type": "execute_result"
    }
   ],
   "source": [
    "mlp_gs = MLPClassifier()\n",
    "parameter_space = {\n",
    "    'hidden_layer_sizes': [(10,30,10),(20,)],\n",
    "    'activation': ['tanh', 'relu'],\n",
    "    'solver': ['sgd', 'adam'],\n",
    "    'alpha': [0.0001, 0.05],\n",
    "    'learning_rate': ['constant','adaptive'],\n",
    "}\n",
    "from sklearn.model_selection import GridSearchCV\n",
    "clf = GridSearchCV(mlp_gs, parameter_space, n_jobs=-1, cv=5)\n",
    "clf.fit(X_train, y_train) # X is train samples and y is the corresponding labels"
   ]
  },
  {
   "cell_type": "code",
   "execution_count": 16,
   "id": "f152ea51",
   "metadata": {},
   "outputs": [
    {
     "name": "stdout",
     "output_type": "stream",
     "text": [
      "Best parameters found:\n",
      " {'activation': 'relu', 'alpha': 0.0001, 'hidden_layer_sizes': (20,), 'learning_rate': 'constant', 'solver': 'adam'}\n"
     ]
    }
   ],
   "source": [
    "print('Best parameters found:\\n', clf.best_params_)"
   ]
  },
  {
   "cell_type": "code",
   "execution_count": 12,
   "id": "55803657",
   "metadata": {},
   "outputs": [],
   "source": [
    "stat_range = range(30)\n",
    "\n",
    "def collect_statistics(create_classifier, list_initializers, Xtrain = X_train, ytrain = y_train, Xval = X_test, yval = y_test):\n",
    "    \n",
    "    stats = [ [] for l in range(len(list_initializers)) ]\n",
    "\n",
    "    for i in stat_range:\n",
    "        model = create_classifier(i)\n",
    "        model.fit(Xtrain, ytrain)\n",
    "\n",
    "        y = model.predict(Xval)\n",
    "        p = model.predict_proba(Xval)\n",
    "        p0 = p[yval == 0, 0]\n",
    "        p1 = p[yval == 1, 1]\n",
    "        \n",
    "        for l in zip(stats, list_initializers):\n",
    "            l[0].append(l[1](y, p, p0, p1))\n",
    "    \n",
    "    return tuple(stats)"
   ]
  },
  {
   "cell_type": "code",
   "execution_count": 20,
   "id": "73682113",
   "metadata": {},
   "outputs": [
    {
     "name": "stdout",
     "output_type": "stream",
     "text": [
      "\n",
      "Classification Report\n",
      "               precision    recall  f1-score   support\n",
      "\n",
      "           0       0.74      0.85      0.79       995\n",
      "           1       0.94      0.90      0.92      2928\n",
      "\n",
      "    accuracy                           0.89      3923\n",
      "   macro avg       0.84      0.87      0.86      3923\n",
      "weighted avg       0.89      0.89      0.89      3923\n",
      "\n",
      "\n",
      "Confusion Matrix\n",
      " [[ 841  154]\n",
      " [ 293 2635]]\n"
     ]
    }
   ],
   "source": [
    "# Define the MLP model\n",
    "mlp = MLPClassifier(activation= 'relu', alpha=0.0001, hidden_layer_sizes=(20,), learning_rate= 'constant', solver= 'adam')\n",
    "\n",
    "# Train the model\n",
    "mlp.fit(X_train, y_train)\n",
    "\n",
    "# Make predictions on the test set\n",
    "y_pred = mlp.predict(X_test)\n",
    "\n",
    "# Evaluate the model\n",
    "print(f\"\\nClassification Report\\n {classification_report(y_test, y_pred)}\")\n",
    "print(f\"\\nConfusion Matrix\\n {confusion_matrix(y_test, y_pred)}\")"
   ]
  },
  {
   "cell_type": "markdown",
   "id": "d49bc9ab",
   "metadata": {},
   "source": [
    "This is the result of evaluating a classification model on a test set of data. The classification report shows the precision, recall, and f1-score for each class, as well as the overall accuracy of the model. The Confusion matrix also provides a detailed breakdown of the model's performance.\n",
    "\n",
    "The precision for class 0 is 0.91, which means that 91% of the instances that the model predicted to be class 0 were actually class 0. The recall for class 0 is 0.78, which means that 78% of the actual class 0 instances were correctly predicted by the model. The F1-score is a harmonic mean of precision and recall, and it is 0.84 for class 0.\n",
    "\n",
    "Similarly, The precision for class 1 is 0.93, which means that 93% of the instances that the model predicted to be class 1 were actually class 1. The recall for class 1 is 0.97, which means that 97% of the actual class 1 instances were correctly predicted by the model. The F1-score is a harmonic mean of precision and recall, and it is 0.95 for class 1.\n",
    "\n",
    "The overall accuracy of the model is 0.92, which means that 92% of the test instances were correctly classified by the model.\n",
    "\n",
    "The confusion matrix shows the number of true positives, false positives, true negatives, and false negatives for each class. In this case, the model correctly predicted 777 instances of class 0, 218 instances of class 0 were incorrectly predicted as class 1, 2848 instances of class 1 were correctly predicted and 80 instances of class 1 were incorrectly predicted as class 0.\n",
    "\n",
    "Overall, this is considered a good result. The model has a high accuracy, precision, and recall for both classes, and a high F1-score."
   ]
  },
  {
   "cell_type": "code",
   "execution_count": 14,
   "id": "ff663f37",
   "metadata": {},
   "outputs": [
    {
     "data": {
      "text/plain": [
       "array([1, 1, 1, 1, 1, 1, 1, 1, 1, 1, 1, 1, 1, 1, 1, 1, 0], dtype=int64)"
      ]
     },
     "execution_count": 14,
     "metadata": {},
     "output_type": "execute_result"
    }
   ],
   "source": [
    "# Validation on a test datas\n",
    "y_valid = mlp.predict(X_val)\n",
    "y_valid"
   ]
  },
  {
   "cell_type": "code",
   "execution_count": 15,
   "id": "77c44504",
   "metadata": {},
   "outputs": [
    {
     "data": {
      "text/plain": [
       "0                                    Skype-8.10.0.9.exe\n",
       "1                                   vlc-3.0.2-win64.exe\n",
       "2                                         stinger32.exe\n",
       "3                                  SpotifyFullSetup.exe\n",
       "4                                      uftp_english.exe\n",
       "5     161a59f2525518f799c63f916c80fe85f50c5b09c74dc2...\n",
       "6     eaa478e65696ad5cbdb42c1b4bd6954f2a876fdde2e519...\n",
       "7                                     reverse_shell.exe\n",
       "8     873b9eaef6ea5ed6126086594529a3395bdbc5d63c97d8...\n",
       "9                               ScratchInstaller1.4.exe\n",
       "10    69eb27dd3bbf5077dcd795872535b89af9a898254b90ad...\n",
       "11    3334686141a400bb522824fa6f7faf30614372fe11837a...\n",
       "12    3ec4cb928846f8298e5a13b3e96bfc2a709cb3b005a31e...\n",
       "13    252f705dc15d7a305afd3e0619fa014c10b679248f71b7...\n",
       "14                                         wordweb8.exe\n",
       "15    c89f1e55b418a4447394994498971c6e6f3848bfe39ef9...\n",
       "16                                   winrar-x64-550.exe\n",
       "Name: Name, dtype: object"
      ]
     },
     "execution_count": 15,
     "metadata": {},
     "output_type": "execute_result"
    }
   ],
   "source": [
    "malware_val['Name']"
   ]
  },
  {
   "cell_type": "code",
   "execution_count": null,
   "id": "e1b14c27",
   "metadata": {},
   "outputs": [],
   "source": []
  }
 ],
 "metadata": {
  "kernelspec": {
   "display_name": "Python 3 (ipykernel)",
   "language": "python",
   "name": "python3"
  },
  "language_info": {
   "codemirror_mode": {
    "name": "ipython",
    "version": 3
   },
   "file_extension": ".py",
   "mimetype": "text/x-python",
   "name": "python",
   "nbconvert_exporter": "python",
   "pygments_lexer": "ipython3",
   "version": "3.8.16"
  }
 },
 "nbformat": 4,
 "nbformat_minor": 5
}
