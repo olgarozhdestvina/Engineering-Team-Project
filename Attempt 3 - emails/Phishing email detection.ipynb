{
 "cells": [
  {
   "cell_type": "code",
   "execution_count": 1,
   "id": "23afdfec",
   "metadata": {},
   "outputs": [],
   "source": [
    "import openai\n",
    "import pandas as pd\n",
    "import numpy as np"
   ]
  },
  {
   "cell_type": "code",
   "execution_count": 2,
   "id": "9e6c7c9f",
   "metadata": {},
   "outputs": [
    {
     "data": {
      "text/plain": [
       "False"
      ]
     },
     "execution_count": 2,
     "metadata": {},
     "output_type": "execute_result"
    }
   ],
   "source": [
    "# Load the dataset\n",
    "train_data = pd.read_csv(\"Email-trainingdata.csv\", header=None)\n",
    "pd.isnull(train_data).values.any()"
   ]
  },
  {
   "cell_type": "code",
   "execution_count": 3,
   "id": "d411c567",
   "metadata": {},
   "outputs": [
    {
     "data": {
      "text/html": [
       "<div>\n",
       "<style scoped>\n",
       "    .dataframe tbody tr th:only-of-type {\n",
       "        vertical-align: middle;\n",
       "    }\n",
       "\n",
       "    .dataframe tbody tr th {\n",
       "        vertical-align: top;\n",
       "    }\n",
       "\n",
       "    .dataframe thead th {\n",
       "        text-align: right;\n",
       "    }\n",
       "</style>\n",
       "<table border=\"1\" class=\"dataframe\">\n",
       "  <thead>\n",
       "    <tr style=\"text-align: right;\">\n",
       "      <th></th>\n",
       "      <th>0</th>\n",
       "      <th>1</th>\n",
       "      <th>2</th>\n",
       "    </tr>\n",
       "  </thead>\n",
       "  <tbody>\n",
       "    <tr>\n",
       "      <th>0</th>\n",
       "      <td>Subject: what up , , your cam babe what are yo...</td>\n",
       "      <td>phishing</td>\n",
       "      <td>spam</td>\n",
       "    </tr>\n",
       "    <tr>\n",
       "      <th>1</th>\n",
       "      <td>Subject: want to make more money ? order confi...</td>\n",
       "      <td>phishing</td>\n",
       "      <td>spam</td>\n",
       "    </tr>\n",
       "    <tr>\n",
       "      <th>2</th>\n",
       "      <td>Subject: food for thoughts [ join now - take a...</td>\n",
       "      <td>phishing</td>\n",
       "      <td>spam</td>\n",
       "    </tr>\n",
       "    <tr>\n",
       "      <th>3</th>\n",
       "      <td>Subject: your pharmacy ta would you want cheap...</td>\n",
       "      <td>phishing</td>\n",
       "      <td>spam</td>\n",
       "    </tr>\n",
       "    <tr>\n",
       "      <th>4</th>\n",
       "      <td>Subject: bigger breast just from a pill image ...</td>\n",
       "      <td>phishing</td>\n",
       "      <td>spam</td>\n",
       "    </tr>\n",
       "  </tbody>\n",
       "</table>\n",
       "</div>"
      ],
      "text/plain": [
       "                                                   0         1     2\n",
       "0  Subject: what up , , your cam babe what are yo...  phishing  spam\n",
       "1  Subject: want to make more money ? order confi...  phishing  spam\n",
       "2  Subject: food for thoughts [ join now - take a...  phishing  spam\n",
       "3  Subject: your pharmacy ta would you want cheap...  phishing  spam\n",
       "4  Subject: bigger breast just from a pill image ...  phishing  spam"
      ]
     },
     "execution_count": 3,
     "metadata": {},
     "output_type": "execute_result"
    }
   ],
   "source": [
    "train_data.head()"
   ]
  },
  {
   "cell_type": "code",
   "execution_count": 4,
   "id": "5f1683ea",
   "metadata": {},
   "outputs": [],
   "source": [
    "train_data.columns = ['prompt', 'category', 'completion']\n",
    "train_data.drop('category', axis=1, inplace=True)"
   ]
  },
  {
   "cell_type": "code",
   "execution_count": 5,
   "id": "4fc3664f",
   "metadata": {},
   "outputs": [
    {
     "data": {
      "text/plain": [
       "17830"
      ]
     },
     "execution_count": 5,
     "metadata": {},
     "output_type": "execute_result"
    }
   ],
   "source": [
    "train_data.prompt.nunique()"
   ]
  },
  {
   "cell_type": "code",
   "execution_count": 6,
   "id": "27bb6ea1",
   "metadata": {},
   "outputs": [
    {
     "data": {
      "text/plain": [
       "2"
      ]
     },
     "execution_count": 6,
     "metadata": {},
     "output_type": "execute_result"
    }
   ],
   "source": [
    "train_data.completion.nunique()"
   ]
  },
  {
   "cell_type": "code",
   "execution_count": 7,
   "id": "8c5dc741",
   "metadata": {},
   "outputs": [],
   "source": [
    "train_data.to_json(\"train_data.jsonl\", orient='records', lines=True)"
   ]
  },
  {
   "cell_type": "code",
   "execution_count": 8,
   "id": "ec01054f",
   "metadata": {},
   "outputs": [
    {
     "name": "stdout",
     "output_type": "stream",
     "text": [
      "Analyzing...\n",
      "\n",
      "- Your file contains 17830 prompt-completion pairs\n",
      "- Based on your data it seems like you're trying to fine-tune a model for classification\n",
      "- For classification, we recommend you try one of the faster and cheaper models, such as `ada`\n",
      "- For classification, you can estimate the expected model performance by keeping a held out dataset, which is not used for training\n",
      "- Your data does not contain a common separator at the end of your prompts. Having a separator string appended to the end of the prompt makes it clearer to the fine-tuned model where the completion should begin. See https://beta.openai.com/docs/guides/fine-tuning/preparing-your-dataset for more detail and examples. If you intend to do open-ended generation, then you should leave the prompts empty\n",
      "- All prompts start with prefix `Subject: `\n",
      "- The completion should start with a whitespace character (` `). This tends to produce better results due to the tokenization we use. See https://beta.openai.com/docs/guides/fine-tuning/preparing-your-dataset for more details\n",
      "\n",
      "Based on the analysis we will perform the following actions:\n",
      "- [Recommended] Add a suffix separator ` ->` to all prompts [Y/n]: Y\n",
      "- [Recommended] Add a whitespace character to the beginning of the completion [Y/n]: Y\n",
      "- [Recommended] Would you like to split into training and validation set? [Y/n]: Y\n",
      "\n",
      "\n",
      "Your data will be written to a new JSONL file. Proceed [Y/n]: Y\n",
      "\n",
      "Wrote modified files to `train_data_prepared_train.jsonl` and `train_data_prepared_valid.jsonl`\n",
      "Feel free to take a look!\n",
      "\n",
      "Now use that file when fine-tuning:\n",
      "> openai api fine_tunes.create -t \"train_data_prepared_train.jsonl\" -v \"train_data_prepared_valid.jsonl\" --compute_classification_metrics --classification_positive_class \" spam\"\n",
      "\n",
      "After you’ve fine-tuned a model, remember that your prompt has to end with the indicator string ` ->` for the model to start generating completions, rather than continuing with the prompt. Make sure to include `stop=[\"am\"]` so that the generated texts ends at the expected place.\n",
      "Once your model starts training, it'll approximately take 7.17 hours to train a `curie` model, and less for `ada` and `babbage`. Queue will approximately take half an hour per job ahead of you.\n"
     ]
    }
   ],
   "source": [
    "!openai tools fine_tunes.prepare_data -f train_data.jsonl -q"
   ]
  },
  {
   "cell_type": "code",
   "execution_count": 9,
   "id": "f5a6104b",
   "metadata": {},
   "outputs": [
    {
     "name": "stdout",
     "output_type": "stream",
     "text": [
      "Uploaded file from train_data_prepared_train.jsonl: file-owqCzDlHumzoXLDHEvhDyQ5l\n",
      "Uploaded file from train_data_prepared_valid.jsonl: file-fJIuQjNEbwDrgMAAv7JaHeDM\n",
      "Created fine-tune: ft-EsZg1dnsPuxV9vC8rudY5VoO\n",
      "Streaming events until fine-tuning is complete...\n",
      "\n",
      "(Ctrl-C will interrupt the stream, but not cancel the fine-tune)\n",
      "[2023-02-03 10:10:04] Created fine-tune: ft-EsZg1dnsPuxV9vC8rudY5VoO\n",
      "\n",
      "Stream interrupted (client disconnected).\n",
      "To resume the stream, run:\n",
      "\n",
      "  openai api fine_tunes.follow -i ft-EsZg1dnsPuxV9vC8rudY5VoO\n",
      "\n"
     ]
    },
    {
     "name": "stderr",
     "output_type": "stream",
     "text": [
      "\n",
      "Upload progress:   0%|          | 0.00/8.47M [00:00<?, ?it/s]\n",
      "Upload progress: 100%|##########| 8.47M/8.47M [00:00<00:00, 2.83Git/s]\n",
      "\n",
      "Upload progress:   0%|          | 0.00/496k [00:00<?, ?it/s]\n",
      "Upload progress: 100%|##########| 496k/496k [00:00<00:00, 249Mit/s]\n"
     ]
    }
   ],
   "source": [
    "!openai --api-key \"xxx\" api fine_tunes.create -t \"train_data_prepared_train.jsonl\" -v \"train_data_prepared_valid.jsonl\" --compute_classification_metrics --classification_positive_class \" spam\" -m ada"
   ]
  },
  {
   "cell_type": "code",
   "execution_count": 14,
   "id": "4e3b3c47",
   "metadata": {},
   "outputs": [
    {
     "name": "stdout",
     "output_type": "stream",
     "text": [
      "[2023-02-03 10:10:04] Created fine-tune: ft-EsZg1dnsPuxV9vC8rudY5VoO\n",
      "[2023-02-03 10:29:54] Fine-tune costs $3.27\n",
      "[2023-02-03 10:29:55] Fine-tune enqueued. Queue number: 10\n",
      "[2023-02-03 10:29:58] Fine-tune is in the queue. Queue number: 9\n",
      "[2023-02-03 10:31:51] Fine-tune is in the queue. Queue number: 8\n",
      "[2023-02-03 10:32:41] Fine-tune is in the queue. Queue number: 7\n",
      "[2023-02-03 10:33:54] Fine-tune is in the queue. Queue number: 6\n",
      "[2023-02-03 10:35:49] Fine-tune is in the queue. Queue number: 5\n",
      "[2023-02-03 10:36:20] Fine-tune is in the queue. Queue number: 4\n",
      "[2023-02-03 10:36:41] Fine-tune is in the queue. Queue number: 3\n",
      "[2023-02-03 10:40:57] Fine-tune is in the queue. Queue number: 2\n",
      "[2023-02-03 10:41:30] Fine-tune is in the queue. Queue number: 1\n",
      "[2023-02-03 10:41:42] Fine-tune is in the queue. Queue number: 0\n",
      "[2023-02-03 10:42:49] Fine-tune started\n",
      "[2023-02-03 10:42:50] The positive class specified `spam` is not found among the classes in the validation file [' spam', ' ham']. Fine-tune failed. For help, please contact OpenAI and include your fine-tune ID: ft-EsZg1dnsPuxV9vC8rudY5VoO\n",
      "\n",
      "Job failed. Please contact support@openai.com if you need assistance.\n"
     ]
    }
   ],
   "source": [
    "!openai --api-key \"xxx\" api fine_tunes.follow -i ft-EsZg1dnsPuxV9vC8rudY5VoO"
   ]
  },
  {
   "cell_type": "code",
   "execution_count": null,
   "id": "b56257b6",
   "metadata": {},
   "outputs": [],
   "source": []
  }
 ],
 "metadata": {
  "kernelspec": {
   "display_name": "Python 3 (ipykernel)",
   "language": "python",
   "name": "python3"
  },
  "language_info": {
   "codemirror_mode": {
    "name": "ipython",
    "version": 3
   },
   "file_extension": ".py",
   "mimetype": "text/x-python",
   "name": "python",
   "nbconvert_exporter": "python",
   "pygments_lexer": "ipython3",
   "version": "3.8.16"
  }
 },
 "nbformat": 4,
 "nbformat_minor": 5
}
